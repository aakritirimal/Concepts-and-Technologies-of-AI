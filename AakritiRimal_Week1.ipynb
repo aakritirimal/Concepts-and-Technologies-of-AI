{
  "nbformat": 4,
  "nbformat_minor": 0,
  "metadata": {
    "colab": {
      "provenance": []
    },
    "kernelspec": {
      "name": "python3",
      "display_name": "Python 3"
    },
    "language_info": {
      "name": "python"
    }
  },
  "cells": [
    {
      "cell_type": "code",
      "execution_count": null,
      "metadata": {
        "colab": {
          "base_uri": "https://localhost:8080/"
        },
        "id": "9US3BxDqGfPm",
        "outputId": "6d872889-1ab9-4f9a-a3a3-c628369aadfe"
      },
      "outputs": [
        {
          "output_type": "stream",
          "name": "stdout",
          "text": [
            "[[4.80060710e-310 0.00000000e+000]\n",
            " [6.62957679e-310 6.62957675e-310]]\n",
            "[[1. 1.]\n",
            " [1. 1.]\n",
            " [1. 1.]\n",
            " [1. 1.]]\n"
          ]
        }
      ],
      "source": [
        "#Problem1(Array Creation)\n",
        "import numpy as np\n",
        "#1\n",
        "empty_array = np.empty((2,2))\n",
        "print(empty_array)\n",
        "\n",
        "#2\n",
        "ones_array = np.ones((4,2))\n",
        "print(ones_array)\n",
        "\n",
        "#3\n",
        "array_fill = np.full((3,4),7)\n",
        "print(array_fill)\n",
        "\n",
        "#4\n",
        "given_array = np.array([[1,2,3],[4,5,6]])\n",
        "array_zeros = np.zeros_like(given_array)\n",
        "print(array_zeros)\n",
        "\n",
        "#5\n",
        "given_array = np.array([[1,2,3],[4,5,6]])\n",
        "array_ones = np.ones_like(given_array)\n",
        "print(array_ones)\n",
        "\n",
        "#6\n",
        "new_list = [1,2,3,4,5]\n",
        "array_from_list = np.array(new_list)\n",
        "print(array_from_list)\n"
      ]
    },
    {
      "cell_type": "code",
      "source": [
        "#Problem2(Array Manipulation)\n",
        "import numpy as np\n",
        "\n",
        "#1\n",
        "array = np.arange(10,50)\n",
        "print(array)\n",
        "\n",
        "#2\n",
        "matrix = np.arange(0,9).reshape(3,3)\n",
        "print(matrix)\n",
        "\n",
        "#3\n",
        "identity_matrix = np.eye(3)\n",
        "print(identity_matrix)\n",
        "\n",
        "#4\n",
        "random_array = np.random.random(30)\n",
        "mean_value = np.mean(random_array)\n",
        "print(mean_value)\n",
        "\n",
        "#5\n",
        "random_array = np.random.random((10, 10))\n",
        "\n",
        "# Find the minimum and maximum values\n",
        "min_value = random_array.min()\n",
        "max_value = random_array.max()\n",
        "\n",
        "print(random_array)\n",
        "print( min_value)\n",
        "print( max_value)\n",
        "\n",
        "#6\n",
        "zero_array = np.zeros(10)\n",
        "zero_array[4] = 1\n",
        "print(zero_array)\n",
        "\n",
        "#7\n",
        "arr = np.array([1, 2, 0, 0, 4, 0])\n",
        "reversed_arr = arr[::-1]\n",
        "print(reversed_arr)\n",
        "\n",
        "#8\n",
        "size = 5\n",
        "array = np.zeros((size, size),dtype=int)\n",
        "array[0,:] = 1\n",
        "array[-1,:] = 1\n",
        "array[:,0] = 1\n",
        "array[:,-1] = 1\n",
        "print(array)\n",
        "\n",
        "#9\n",
        "matrix = np.zeros((8,8),dtype=int)\n",
        "matrix[1::2,::2] = 1\n",
        "matrix[::2,1::2] = 1\n",
        "print(matrix)\n"
      ],
      "metadata": {
        "colab": {
          "base_uri": "https://localhost:8080/"
        },
        "id": "jtt0qJgIIKC5",
        "outputId": "7a2f06cf-1118-4341-a909-1188feb087a8"
      },
      "execution_count": null,
      "outputs": [
        {
          "output_type": "stream",
          "name": "stdout",
          "text": [
            "[10 11 12 13 14 15 16 17 18 19 20 21 22 23 24 25 26 27 28 29 30 31 32 33\n",
            " 34 35 36 37 38 39 40 41 42 43 44 45 46 47 48 49]\n"
          ]
        }
      ]
    },
    {
      "cell_type": "code",
      "source": [
        "#Problem3(Array Operations)\n",
        "import numpy as np\n",
        "\n",
        "x = np.array([[1,2],[3,5]])\n",
        "y = np.array([[5,6],[7,8]])\n",
        "v = np.array([9,10])\n",
        "w = np.array([11,12])\n",
        "\n",
        "#1\n",
        "add_result = x + y\n",
        "print(add_result)\n",
        "\n",
        "#2\n",
        "sub_result = x - y\n",
        "print(sub_result)\n",
        "\n",
        "#3\n",
        "mul_result = x * y\n",
        "print(mul_result)\n",
        "\n",
        "#4\n",
        "square_result = np.square(x)\n",
        "print(square_result)\n",
        "\n",
        "#5\n",
        "dot_V_W = np.dot(v, w)\n",
        "print(dot_V_W)\n",
        "dot_X_V = np.dot(x, v)\n",
        "print(dot_X_V)\n",
        "dot_X_Y = np.dot(x, y)\n",
        "print(dot_X_Y)\n",
        "\n",
        "#6\n",
        "concat_x_y = np.concatenate((x, y), axis=0)\n",
        "print(concat_x_y)\n",
        "concat_v_w = np.concatenate((v, w), axis=0)\n",
        "print(concat_v_w)\n"
      ],
      "metadata": {
        "colab": {
          "base_uri": "https://localhost:8080/"
        },
        "id": "7jTMtJs2ORkq",
        "outputId": "d5e1e012-0217-4bb4-ccf8-d512623cca9c"
      },
      "execution_count": null,
      "outputs": [
        {
          "output_type": "stream",
          "name": "stdout",
          "text": [
            "[[ 6  8]\n",
            " [10 13]]\n",
            "[[-4 -4]\n",
            " [-4 -3]]\n",
            "[[ 5 12]\n",
            " [21 40]]\n",
            "[[ 1  4]\n",
            " [ 9 25]]\n",
            "219\n",
            "[29 77]\n",
            "[[19 22]\n",
            " [50 58]]\n",
            "[[1 2]\n",
            " [3 5]\n",
            " [5 6]\n",
            " [7 8]]\n",
            "[ 9 10 11 12]\n"
          ]
        }
      ]
    },
    {
      "cell_type": "code",
      "source": [
        "#7\n",
        "import numpy as np\n",
        "x = np.array([[1,2],[3,5]])\n",
        "v = np.array([9,10])\n",
        "conca = np.concatenate((x,v), axis=0)\n",
        "print(conca)\n",
        "#Error Explanation: All the input arrays must have same number of dimensions."
      ],
      "metadata": {
        "colab": {
          "base_uri": "https://localhost:8080/",
          "height": 280
        },
        "id": "P-F1HIKBVDlF",
        "outputId": "8f2db7aa-4362-4aad-ba7e-fa72dbc7a389"
      },
      "execution_count": null,
      "outputs": [
        {
          "output_type": "error",
          "ename": "ValueError",
          "evalue": "all the input arrays must have same number of dimensions, but the array at index 0 has 2 dimension(s) and the array at index 1 has 1 dimension(s)",
          "traceback": [
            "\u001b[0;31m---------------------------------------------------------------------------\u001b[0m",
            "\u001b[0;31mValueError\u001b[0m                                Traceback (most recent call last)",
            "\u001b[0;32m<ipython-input-7-9ddfba0cf37c>\u001b[0m in \u001b[0;36m<cell line: 5>\u001b[0;34m()\u001b[0m\n\u001b[1;32m      3\u001b[0m \u001b[0mx\u001b[0m \u001b[0;34m=\u001b[0m \u001b[0mnp\u001b[0m\u001b[0;34m.\u001b[0m\u001b[0marray\u001b[0m\u001b[0;34m(\u001b[0m\u001b[0;34m[\u001b[0m\u001b[0;34m[\u001b[0m\u001b[0;36m1\u001b[0m\u001b[0;34m,\u001b[0m\u001b[0;36m2\u001b[0m\u001b[0;34m]\u001b[0m\u001b[0;34m,\u001b[0m\u001b[0;34m[\u001b[0m\u001b[0;36m3\u001b[0m\u001b[0;34m,\u001b[0m\u001b[0;36m5\u001b[0m\u001b[0;34m]\u001b[0m\u001b[0;34m]\u001b[0m\u001b[0;34m)\u001b[0m\u001b[0;34m\u001b[0m\u001b[0;34m\u001b[0m\u001b[0m\n\u001b[1;32m      4\u001b[0m \u001b[0mv\u001b[0m \u001b[0;34m=\u001b[0m \u001b[0mnp\u001b[0m\u001b[0;34m.\u001b[0m\u001b[0marray\u001b[0m\u001b[0;34m(\u001b[0m\u001b[0;34m[\u001b[0m\u001b[0;36m9\u001b[0m\u001b[0;34m,\u001b[0m\u001b[0;36m10\u001b[0m\u001b[0;34m]\u001b[0m\u001b[0;34m)\u001b[0m\u001b[0;34m\u001b[0m\u001b[0;34m\u001b[0m\u001b[0m\n\u001b[0;32m----> 5\u001b[0;31m \u001b[0mconca\u001b[0m \u001b[0;34m=\u001b[0m \u001b[0mnp\u001b[0m\u001b[0;34m.\u001b[0m\u001b[0mconcatenate\u001b[0m\u001b[0;34m(\u001b[0m\u001b[0;34m(\u001b[0m\u001b[0mx\u001b[0m\u001b[0;34m,\u001b[0m\u001b[0mv\u001b[0m\u001b[0;34m)\u001b[0m\u001b[0;34m,\u001b[0m \u001b[0maxis\u001b[0m\u001b[0;34m=\u001b[0m\u001b[0;36m0\u001b[0m\u001b[0;34m)\u001b[0m\u001b[0;34m\u001b[0m\u001b[0;34m\u001b[0m\u001b[0m\n\u001b[0m\u001b[1;32m      6\u001b[0m \u001b[0mprint\u001b[0m\u001b[0;34m(\u001b[0m\u001b[0mconca\u001b[0m\u001b[0;34m)\u001b[0m\u001b[0;34m\u001b[0m\u001b[0;34m\u001b[0m\u001b[0m\n\u001b[1;32m      7\u001b[0m \u001b[0;31m#The error \"ValueError: all the input arrays must have same number of dimensions\" occurs because you're trying to concatenate a 2D array (shape: (2, 2)) with a 1D array (shape: (2,)). np.concatenate requires all arrays to have the same number of dimensions.\u001b[0m\u001b[0;34m\u001b[0m\u001b[0;34m\u001b[0m\u001b[0m\n",
            "\u001b[0;31mValueError\u001b[0m: all the input arrays must have same number of dimensions, but the array at index 0 has 2 dimension(s) and the array at index 1 has 1 dimension(s)"
          ]
        }
      ]
    },
    {
      "cell_type": "code",
      "source": [
        "#Problem 4(Matrix Operations)\n",
        "\n",
        "import numpy as np\n",
        "\n",
        "# Part 1: Inverse of A\n",
        "A = np.array([[3, 4], [7, 8]])\n",
        "B = np.array([[5, 3], [2, 1]])\n",
        "\n",
        "A_inverse = np.linalg.inv(A)\n",
        "print(\"Inverse of A:\")\n",
        "print(A_inverse)\n",
        "print()\n",
        "\n",
        "I = np.dot(A_inverse, A)\n",
        "print(\"I = \\n\", I)\n",
        "print(\"Hence A*A⁻¹ = I, proved\")\n",
        "print()\n",
        "\n",
        "# Part 2: Matrix Multiplication\n",
        "AB = np.dot(A, B)\n",
        "BA = np.dot(B, A)\n",
        "print(\"AB = \\n\", AB)\n",
        "print()\n",
        "print(\"BA = \\n\", BA)\n",
        "print()\n",
        "\n",
        "# Part 3: Transpose Property\n",
        "AB_T = np.transpose(AB)\n",
        "B_T_A_T = np.dot(np.transpose(B), np.transpose(A))\n",
        "print(\"(AB)ᵀ = \\n\", AB_T)\n",
        "print()\n",
        "print(\"Bᵀ * Aᵀ = \\n\", B_T_A_T)\n",
        "print()\n",
        "\n",
        "# Part 4: Cramer's Rule\n",
        "A = np.array([[2, -3, 1], [1, -1, 2], [3, 1, -1]])\n",
        "B = np.array([[-1], [-3], [9]])\n",
        "\n",
        "# Calculate determinant of A\n",
        "det_A = np.linalg.det(A)\n",
        "print(f\"det(A) = {det_A}\")\n",
        "print()\n",
        "\n",
        "# Create matrices A_x, A_y, and A_z by replacing columns of A with B\n",
        "A_x = A.copy()\n",
        "A_x[:, 0] = B[:, 0]\n",
        "\n",
        "A_y = A.copy()\n",
        "A_y[:, 1] = B[:, 0]\n",
        "\n",
        "A_z = A.copy()\n",
        "A_z[:, 2] = B[:, 0]\n",
        "\n",
        "# Calculate the determinants of A_x, A_y, and A_z\n",
        "det_A_x = np.linalg.det(A_x)\n",
        "det_A_y = np.linalg.det(A_y)\n",
        "det_A_z = np.linalg.det(A_z)\n",
        "\n",
        "# Calculate the solutions for x, y, z using Cramer's Rule\n",
        "x = det_A_x / det_A\n",
        "y = det_A_y / det_A\n",
        "z = det_A_z / det_A\n",
        "\n",
        "print(f\"Solution using Cramer's Rule:\\nx = {x}\\ny = {y}\\nz = {z}\")\n",
        "print()\n",
        "\n",
        "# Part 5: Solve using Inverse Method\n",
        "A_inv = np.linalg.inv(A)\n",
        "X = np.dot(A_inv, B)\n",
        "print(\"Solution for [x, y, z] using inverse method:\\n\", X)\n"
      ],
      "metadata": {
        "id": "bJ5naK7sVVoV",
        "colab": {
          "base_uri": "https://localhost:8080/"
        },
        "outputId": "1679e02d-6447-4798-fe9b-73fcb6204791"
      },
      "execution_count": 4,
      "outputs": [
        {
          "output_type": "stream",
          "name": "stdout",
          "text": [
            "Inverse of A:\n",
            "[[-2.    1.  ]\n",
            " [ 1.75 -0.75]]\n",
            "\n",
            "I = \n",
            " [[1.00000000e+00 0.00000000e+00]\n",
            " [5.55111512e-16 1.00000000e+00]]\n",
            "Hence A*A⁻¹ = I, proved\n",
            "\n",
            "AB = \n",
            " [[23 13]\n",
            " [51 29]]\n",
            "\n",
            "BA = \n",
            " [[36 44]\n",
            " [13 16]]\n",
            "\n",
            "(AB)ᵀ = \n",
            " [[23 51]\n",
            " [13 29]]\n",
            "\n",
            "Bᵀ * Aᵀ = \n",
            " [[23 51]\n",
            " [13 29]]\n",
            "\n",
            "det(A) = -19.000000000000004\n",
            "\n",
            "Solution using Cramer's Rule:\n",
            "x = 2.0000000000000004\n",
            "y = 1.0\n",
            "z = -1.9999999999999993\n",
            "\n",
            "Solution for [x, y, z] using inverse method:\n",
            " [[ 2.]\n",
            " [ 1.]\n",
            " [-2.]]\n"
          ]
        }
      ]
    }
  ]
}